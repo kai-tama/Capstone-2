{
 "cells": [
  {
   "cell_type": "markdown",
   "id": "ed076f2c",
   "metadata": {},
   "source": [
    "Importing pretty standard packages, plus the imbalanced-learn package so that I can over and under sample my data to try and work around the class imbalance."
   ]
  },
  {
   "cell_type": "code",
   "execution_count": 1,
   "id": "c6512a89",
   "metadata": {},
   "outputs": [],
   "source": [
    "import pandas as pd\n",
    "import numpy as np\n",
    "from sklearn.preprocessing import MinMaxScaler\n",
    "from sklearn.model_selection import train_test_split\n",
    "from imblearn.over_sampling import SMOTE\n",
    "from imblearn.under_sampling import NearMiss\n",
    "from collections import Counter"
   ]
  },
  {
   "cell_type": "code",
   "execution_count": 2,
   "id": "bc6eb91e",
   "metadata": {},
   "outputs": [],
   "source": [
    "df = pd.read_csv('df_new.csv')"
   ]
  },
  {
   "cell_type": "code",
   "execution_count": 3,
   "id": "11327c11",
   "metadata": {},
   "outputs": [],
   "source": [
    "X = df.loc[:, df.columns != 'Revenue']\n",
    "y = df['Revenue']"
   ]
  },
  {
   "cell_type": "code",
   "execution_count": 4,
   "id": "ff5c332a",
   "metadata": {},
   "outputs": [],
   "source": [
    "X_train, X_test, y_train, y_test = train_test_split(X, y, test_size=0.2, train_size=0.8, random_state=1)"
   ]
  },
  {
   "cell_type": "code",
   "execution_count": 5,
   "id": "08f6600e",
   "metadata": {},
   "outputs": [],
   "source": [
    "num_cols = X.columns[X.dtypes.apply(lambda c: np.issubdtype(c, np.number))]"
   ]
  },
  {
   "cell_type": "code",
   "execution_count": 6,
   "id": "d9740581",
   "metadata": {},
   "outputs": [],
   "source": [
    "scaler = MinMaxScaler().fit(X_train[num_cols])\n",
    "X_train[num_cols] = scaler.transform(X_train[num_cols])\n",
    "X_test[num_cols] = scaler.transform(X_test[num_cols])"
   ]
  },
  {
   "cell_type": "code",
   "execution_count": 7,
   "id": "0d26cb89",
   "metadata": {},
   "outputs": [],
   "source": [
    "X_train = pd.get_dummies(X_train)\n",
    "X_test = pd.get_dummies(X_test)"
   ]
  },
  {
   "cell_type": "code",
   "execution_count": 8,
   "id": "d849a39b",
   "metadata": {},
   "outputs": [
    {
     "data": {
      "text/plain": [
       "Administrative                   float64\n",
       "Administrative_Duration          float64\n",
       "Informational                    float64\n",
       "Informational_Duration           float64\n",
       "ProductRelated                   float64\n",
       "ProductRelated_Duration          float64\n",
       "BounceRates                      float64\n",
       "ExitRates                        float64\n",
       "PageValues                       float64\n",
       "SpecialDay                       float64\n",
       "OperatingSystems                 float64\n",
       "Browser                          float64\n",
       "Region                           float64\n",
       "TrafficType                      float64\n",
       "Weekend                             bool\n",
       "Month_Aug                          uint8\n",
       "Month_Dec                          uint8\n",
       "Month_Feb                          uint8\n",
       "Month_Jul                          uint8\n",
       "Month_June                         uint8\n",
       "Month_Mar                          uint8\n",
       "Month_May                          uint8\n",
       "Month_Nov                          uint8\n",
       "Month_Oct                          uint8\n",
       "Month_Sep                          uint8\n",
       "VisitorType_New_Visitor            uint8\n",
       "VisitorType_Returning_Visitor      uint8\n",
       "dtype: object"
      ]
     },
     "execution_count": 8,
     "metadata": {},
     "output_type": "execute_result"
    }
   ],
   "source": [
    "X_train.dtypes"
   ]
  },
  {
   "cell_type": "markdown",
   "id": "1a3bc5fc",
   "metadata": {},
   "source": [
    "Checked to make sure everything converted nicely, just have to manually change the Weekend values now."
   ]
  },
  {
   "cell_type": "code",
   "execution_count": 9,
   "id": "45a3012c",
   "metadata": {},
   "outputs": [],
   "source": [
    "replace_dict = {True: 1, False: 0}\n",
    "X_train = X_train.replace(replace_dict)\n",
    "X_test = X_test.replace(replace_dict)"
   ]
  },
  {
   "cell_type": "code",
   "execution_count": 10,
   "id": "9c54c542",
   "metadata": {},
   "outputs": [
    {
     "data": {
      "text/plain": [
       "Administrative                   float64\n",
       "Administrative_Duration          float64\n",
       "Informational                    float64\n",
       "Informational_Duration           float64\n",
       "ProductRelated                   float64\n",
       "ProductRelated_Duration          float64\n",
       "BounceRates                      float64\n",
       "ExitRates                        float64\n",
       "PageValues                       float64\n",
       "SpecialDay                       float64\n",
       "OperatingSystems                 float64\n",
       "Browser                          float64\n",
       "Region                           float64\n",
       "TrafficType                      float64\n",
       "Weekend                            int64\n",
       "Month_Aug                          uint8\n",
       "Month_Dec                          uint8\n",
       "Month_Feb                          uint8\n",
       "Month_Jul                          uint8\n",
       "Month_June                         uint8\n",
       "Month_Mar                          uint8\n",
       "Month_May                          uint8\n",
       "Month_Nov                          uint8\n",
       "Month_Oct                          uint8\n",
       "Month_Sep                          uint8\n",
       "VisitorType_New_Visitor            uint8\n",
       "VisitorType_Returning_Visitor      uint8\n",
       "dtype: object"
      ]
     },
     "execution_count": 10,
     "metadata": {},
     "output_type": "execute_result"
    }
   ],
   "source": [
    "X_train.dtypes"
   ]
  },
  {
   "cell_type": "code",
   "execution_count": 11,
   "id": "50451d6d",
   "metadata": {},
   "outputs": [
    {
     "data": {
      "text/plain": [
       "Counter({False: 8307, True: 1557})"
      ]
     },
     "execution_count": 11,
     "metadata": {},
     "output_type": "execute_result"
    }
   ],
   "source": [
    "Counter(y_train)"
   ]
  },
  {
   "cell_type": "markdown",
   "id": "7eeda58c",
   "metadata": {},
   "source": [
    "It looks like when undersampling I'll be cutting down the dataset quite a bit, which will be interesting to see how the results are affected."
   ]
  },
  {
   "cell_type": "code",
   "execution_count": null,
   "id": "2c8f003e",
   "metadata": {},
   "outputs": [],
   "source": [
    "sm = SMOTE(random_state=42)\n",
    "X_trainOS, y_trainOS = sm.fit_resample(X_train, y_train)\n",
    "nm = NearMiss()\n",
    "X_trainUS, y_trainUS = nm.fit_resample(X_train, y_train)"
   ]
  },
  {
   "cell_type": "markdown",
   "id": "a7cd91cc",
   "metadata": {},
   "source": [
    "Right now for the classification I'm thinking I'll look at Random Forest and Gradient Boosting models and for the clustering I'll look at utilizing PCA and KMeans to visualize any groupings in the data."
   ]
  }
 ],
 "metadata": {
  "kernelspec": {
   "display_name": "Python 3 (ipykernel)",
   "language": "python",
   "name": "python3"
  },
  "language_info": {
   "codemirror_mode": {
    "name": "ipython",
    "version": 3
   },
   "file_extension": ".py",
   "mimetype": "text/x-python",
   "name": "python",
   "nbconvert_exporter": "python",
   "pygments_lexer": "ipython3",
   "version": "3.10.9"
  }
 },
 "nbformat": 4,
 "nbformat_minor": 5
}
